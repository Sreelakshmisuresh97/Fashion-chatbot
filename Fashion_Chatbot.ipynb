{
  "nbformat": 4,
  "nbformat_minor": 0,
  "metadata": {
    "colab": {
      "provenance": []
    },
    "kernelspec": {
      "name": "python3",
      "display_name": "Python 3"
    },
    "language_info": {
      "name": "python"
    }
  },
  "cells": [
    {
      "cell_type": "markdown",
      "source": [
        "# Fashion Chatbot"
      ],
      "metadata": {
        "id": "I1ub_AAYwY7p"
      }
    },
    {
      "cell_type": "markdown",
      "source": [
        "The fashion industry is constantly evolving, with new trends and styles emerging every season. Keeping up with the latest fashion can be overwhelming, especially for those who are not immersed in the industry. This is where a fashion chatbot comes into play. By leveraging natural language processing and machine learning techniques, a fashion chatbot can assist users in navigating the vast world of fashion, providing personalized recommendations, answering queries, and offering styling advice."
      ],
      "metadata": {
        "id": "9fYHj8mrA3gB"
      }
    },
    {
      "cell_type": "markdown",
      "source": [
        "## Traditional Gpt"
      ],
      "metadata": {
        "id": "IdlzvpOCG1Vv"
      }
    },
    {
      "cell_type": "code",
      "execution_count": null,
      "metadata": {
        "id": "fv_pEqCBaXEE",
        "colab": {
          "base_uri": "https://localhost:8080/"
        },
        "outputId": "e2017b90-367d-4698-e688-fcf7bcdcf758"
      },
      "outputs": [
        {
          "output_type": "stream",
          "name": "stdout",
          "text": [
            "Collecting openai\n",
            "  Downloading openai-1.28.1-py3-none-any.whl (320 kB)\n",
            "\u001b[2K     \u001b[90m━━━━━━━━━━━━━━━━━━━━━━━━━━━━━━━━━━━━━━━━\u001b[0m \u001b[32m320.1/320.1 kB\u001b[0m \u001b[31m6.0 MB/s\u001b[0m eta \u001b[36m0:00:00\u001b[0m\n",
            "\u001b[?25hRequirement already satisfied: anyio<5,>=3.5.0 in /usr/local/lib/python3.10/dist-packages (from openai) (3.7.1)\n",
            "Requirement already satisfied: distro<2,>=1.7.0 in /usr/lib/python3/dist-packages (from openai) (1.7.0)\n",
            "Collecting httpx<1,>=0.23.0 (from openai)\n",
            "  Downloading httpx-0.27.0-py3-none-any.whl (75 kB)\n",
            "\u001b[2K     \u001b[90m━━━━━━━━━━━━━━━━━━━━━━━━━━━━━━━━━━━━━━━━\u001b[0m \u001b[32m75.6/75.6 kB\u001b[0m \u001b[31m9.9 MB/s\u001b[0m eta \u001b[36m0:00:00\u001b[0m\n",
            "\u001b[?25hRequirement already satisfied: pydantic<3,>=1.9.0 in /usr/local/lib/python3.10/dist-packages (from openai) (2.7.1)\n",
            "Requirement already satisfied: sniffio in /usr/local/lib/python3.10/dist-packages (from openai) (1.3.1)\n",
            "Requirement already satisfied: tqdm>4 in /usr/local/lib/python3.10/dist-packages (from openai) (4.66.4)\n",
            "Requirement already satisfied: typing-extensions<5,>=4.7 in /usr/local/lib/python3.10/dist-packages (from openai) (4.11.0)\n",
            "Requirement already satisfied: idna>=2.8 in /usr/local/lib/python3.10/dist-packages (from anyio<5,>=3.5.0->openai) (3.7)\n",
            "Requirement already satisfied: exceptiongroup in /usr/local/lib/python3.10/dist-packages (from anyio<5,>=3.5.0->openai) (1.2.1)\n",
            "Requirement already satisfied: certifi in /usr/local/lib/python3.10/dist-packages (from httpx<1,>=0.23.0->openai) (2024.2.2)\n",
            "Collecting httpcore==1.* (from httpx<1,>=0.23.0->openai)\n",
            "  Downloading httpcore-1.0.5-py3-none-any.whl (77 kB)\n",
            "\u001b[2K     \u001b[90m━━━━━━━━━━━━━━━━━━━━━━━━━━━━━━━━━━━━━━━━\u001b[0m \u001b[32m77.9/77.9 kB\u001b[0m \u001b[31m9.3 MB/s\u001b[0m eta \u001b[36m0:00:00\u001b[0m\n",
            "\u001b[?25hCollecting h11<0.15,>=0.13 (from httpcore==1.*->httpx<1,>=0.23.0->openai)\n",
            "  Downloading h11-0.14.0-py3-none-any.whl (58 kB)\n",
            "\u001b[2K     \u001b[90m━━━━━━━━━━━━━━━━━━━━━━━━━━━━━━━━━━━━━━━━\u001b[0m \u001b[32m58.3/58.3 kB\u001b[0m \u001b[31m6.9 MB/s\u001b[0m eta \u001b[36m0:00:00\u001b[0m\n",
            "\u001b[?25hRequirement already satisfied: annotated-types>=0.4.0 in /usr/local/lib/python3.10/dist-packages (from pydantic<3,>=1.9.0->openai) (0.6.0)\n",
            "Requirement already satisfied: pydantic-core==2.18.2 in /usr/local/lib/python3.10/dist-packages (from pydantic<3,>=1.9.0->openai) (2.18.2)\n",
            "Installing collected packages: h11, httpcore, httpx, openai\n",
            "Successfully installed h11-0.14.0 httpcore-1.0.5 httpx-0.27.0 openai-1.28.1\n",
            "Collecting sentence_transformers\n",
            "  Downloading sentence_transformers-2.7.0-py3-none-any.whl (171 kB)\n",
            "\u001b[2K     \u001b[90m━━━━━━━━━━━━━━━━━━━━━━━━━━━━━━━━━━━━━━━━\u001b[0m \u001b[32m171.5/171.5 kB\u001b[0m \u001b[31m3.5 MB/s\u001b[0m eta \u001b[36m0:00:00\u001b[0m\n",
            "\u001b[?25hRequirement already satisfied: transformers<5.0.0,>=4.34.0 in /usr/local/lib/python3.10/dist-packages (from sentence_transformers) (4.40.2)\n",
            "Requirement already satisfied: tqdm in /usr/local/lib/python3.10/dist-packages (from sentence_transformers) (4.66.4)\n",
            "Requirement already satisfied: torch>=1.11.0 in /usr/local/lib/python3.10/dist-packages (from sentence_transformers) (2.2.1+cu121)\n",
            "Requirement already satisfied: numpy in /usr/local/lib/python3.10/dist-packages (from sentence_transformers) (1.25.2)\n",
            "Requirement already satisfied: scikit-learn in /usr/local/lib/python3.10/dist-packages (from sentence_transformers) (1.2.2)\n",
            "Requirement already satisfied: scipy in /usr/local/lib/python3.10/dist-packages (from sentence_transformers) (1.11.4)\n",
            "Requirement already satisfied: huggingface-hub>=0.15.1 in /usr/local/lib/python3.10/dist-packages (from sentence_transformers) (0.20.3)\n",
            "Requirement already satisfied: Pillow in /usr/local/lib/python3.10/dist-packages (from sentence_transformers) (9.4.0)\n",
            "Requirement already satisfied: filelock in /usr/local/lib/python3.10/dist-packages (from huggingface-hub>=0.15.1->sentence_transformers) (3.14.0)\n",
            "Requirement already satisfied: fsspec>=2023.5.0 in /usr/local/lib/python3.10/dist-packages (from huggingface-hub>=0.15.1->sentence_transformers) (2023.6.0)\n",
            "Requirement already satisfied: requests in /usr/local/lib/python3.10/dist-packages (from huggingface-hub>=0.15.1->sentence_transformers) (2.31.0)\n",
            "Requirement already satisfied: pyyaml>=5.1 in /usr/local/lib/python3.10/dist-packages (from huggingface-hub>=0.15.1->sentence_transformers) (6.0.1)\n",
            "Requirement already satisfied: typing-extensions>=3.7.4.3 in /usr/local/lib/python3.10/dist-packages (from huggingface-hub>=0.15.1->sentence_transformers) (4.11.0)\n",
            "Requirement already satisfied: packaging>=20.9 in /usr/local/lib/python3.10/dist-packages (from huggingface-hub>=0.15.1->sentence_transformers) (24.0)\n",
            "Requirement already satisfied: sympy in /usr/local/lib/python3.10/dist-packages (from torch>=1.11.0->sentence_transformers) (1.12)\n",
            "Requirement already satisfied: networkx in /usr/local/lib/python3.10/dist-packages (from torch>=1.11.0->sentence_transformers) (3.3)\n",
            "Requirement already satisfied: jinja2 in /usr/local/lib/python3.10/dist-packages (from torch>=1.11.0->sentence_transformers) (3.1.4)\n",
            "Collecting nvidia-cuda-nvrtc-cu12==12.1.105 (from torch>=1.11.0->sentence_transformers)\n",
            "  Using cached nvidia_cuda_nvrtc_cu12-12.1.105-py3-none-manylinux1_x86_64.whl (23.7 MB)\n",
            "Collecting nvidia-cuda-runtime-cu12==12.1.105 (from torch>=1.11.0->sentence_transformers)\n",
            "  Using cached nvidia_cuda_runtime_cu12-12.1.105-py3-none-manylinux1_x86_64.whl (823 kB)\n",
            "Collecting nvidia-cuda-cupti-cu12==12.1.105 (from torch>=1.11.0->sentence_transformers)\n",
            "  Using cached nvidia_cuda_cupti_cu12-12.1.105-py3-none-manylinux1_x86_64.whl (14.1 MB)\n",
            "Collecting nvidia-cudnn-cu12==8.9.2.26 (from torch>=1.11.0->sentence_transformers)\n",
            "  Using cached nvidia_cudnn_cu12-8.9.2.26-py3-none-manylinux1_x86_64.whl (731.7 MB)\n",
            "Collecting nvidia-cublas-cu12==12.1.3.1 (from torch>=1.11.0->sentence_transformers)\n",
            "  Using cached nvidia_cublas_cu12-12.1.3.1-py3-none-manylinux1_x86_64.whl (410.6 MB)\n",
            "Collecting nvidia-cufft-cu12==11.0.2.54 (from torch>=1.11.0->sentence_transformers)\n",
            "  Using cached nvidia_cufft_cu12-11.0.2.54-py3-none-manylinux1_x86_64.whl (121.6 MB)\n",
            "Collecting nvidia-curand-cu12==10.3.2.106 (from torch>=1.11.0->sentence_transformers)\n",
            "  Using cached nvidia_curand_cu12-10.3.2.106-py3-none-manylinux1_x86_64.whl (56.5 MB)\n",
            "Collecting nvidia-cusolver-cu12==11.4.5.107 (from torch>=1.11.0->sentence_transformers)\n",
            "  Using cached nvidia_cusolver_cu12-11.4.5.107-py3-none-manylinux1_x86_64.whl (124.2 MB)\n",
            "Collecting nvidia-cusparse-cu12==12.1.0.106 (from torch>=1.11.0->sentence_transformers)\n",
            "  Using cached nvidia_cusparse_cu12-12.1.0.106-py3-none-manylinux1_x86_64.whl (196.0 MB)\n",
            "Collecting nvidia-nccl-cu12==2.19.3 (from torch>=1.11.0->sentence_transformers)\n",
            "  Using cached nvidia_nccl_cu12-2.19.3-py3-none-manylinux1_x86_64.whl (166.0 MB)\n",
            "Collecting nvidia-nvtx-cu12==12.1.105 (from torch>=1.11.0->sentence_transformers)\n",
            "  Using cached nvidia_nvtx_cu12-12.1.105-py3-none-manylinux1_x86_64.whl (99 kB)\n",
            "Requirement already satisfied: triton==2.2.0 in /usr/local/lib/python3.10/dist-packages (from torch>=1.11.0->sentence_transformers) (2.2.0)\n",
            "Collecting nvidia-nvjitlink-cu12 (from nvidia-cusolver-cu12==11.4.5.107->torch>=1.11.0->sentence_transformers)\n",
            "  Using cached nvidia_nvjitlink_cu12-12.4.127-py3-none-manylinux2014_x86_64.whl (21.1 MB)\n",
            "Requirement already satisfied: regex!=2019.12.17 in /usr/local/lib/python3.10/dist-packages (from transformers<5.0.0,>=4.34.0->sentence_transformers) (2023.12.25)\n",
            "Requirement already satisfied: tokenizers<0.20,>=0.19 in /usr/local/lib/python3.10/dist-packages (from transformers<5.0.0,>=4.34.0->sentence_transformers) (0.19.1)\n",
            "Requirement already satisfied: safetensors>=0.4.1 in /usr/local/lib/python3.10/dist-packages (from transformers<5.0.0,>=4.34.0->sentence_transformers) (0.4.3)\n",
            "Requirement already satisfied: joblib>=1.1.1 in /usr/local/lib/python3.10/dist-packages (from scikit-learn->sentence_transformers) (1.4.2)\n",
            "Requirement already satisfied: threadpoolctl>=2.0.0 in /usr/local/lib/python3.10/dist-packages (from scikit-learn->sentence_transformers) (3.5.0)\n",
            "Requirement already satisfied: MarkupSafe>=2.0 in /usr/local/lib/python3.10/dist-packages (from jinja2->torch>=1.11.0->sentence_transformers) (2.1.5)\n",
            "Requirement already satisfied: charset-normalizer<4,>=2 in /usr/local/lib/python3.10/dist-packages (from requests->huggingface-hub>=0.15.1->sentence_transformers) (3.3.2)\n",
            "Requirement already satisfied: idna<4,>=2.5 in /usr/local/lib/python3.10/dist-packages (from requests->huggingface-hub>=0.15.1->sentence_transformers) (3.7)\n",
            "Requirement already satisfied: urllib3<3,>=1.21.1 in /usr/local/lib/python3.10/dist-packages (from requests->huggingface-hub>=0.15.1->sentence_transformers) (2.0.7)\n",
            "Requirement already satisfied: certifi>=2017.4.17 in /usr/local/lib/python3.10/dist-packages (from requests->huggingface-hub>=0.15.1->sentence_transformers) (2024.2.2)\n",
            "Requirement already satisfied: mpmath>=0.19 in /usr/local/lib/python3.10/dist-packages (from sympy->torch>=1.11.0->sentence_transformers) (1.3.0)\n",
            "Installing collected packages: nvidia-nvtx-cu12, nvidia-nvjitlink-cu12, nvidia-nccl-cu12, nvidia-curand-cu12, nvidia-cufft-cu12, nvidia-cuda-runtime-cu12, nvidia-cuda-nvrtc-cu12, nvidia-cuda-cupti-cu12, nvidia-cublas-cu12, nvidia-cusparse-cu12, nvidia-cudnn-cu12, nvidia-cusolver-cu12, sentence_transformers\n",
            "Successfully installed nvidia-cublas-cu12-12.1.3.1 nvidia-cuda-cupti-cu12-12.1.105 nvidia-cuda-nvrtc-cu12-12.1.105 nvidia-cuda-runtime-cu12-12.1.105 nvidia-cudnn-cu12-8.9.2.26 nvidia-cufft-cu12-11.0.2.54 nvidia-curand-cu12-10.3.2.106 nvidia-cusolver-cu12-11.4.5.107 nvidia-cusparse-cu12-12.1.0.106 nvidia-nccl-cu12-2.19.3 nvidia-nvjitlink-cu12-12.4.127 nvidia-nvtx-cu12-12.1.105 sentence_transformers-2.7.0\n"
          ]
        }
      ],
      "source": [
        "!pip install --upgrade openai\n",
        "!pip install sentence_transformers"
      ]
    },
    {
      "cell_type": "code",
      "source": [
        "import openai\n",
        "api_key = input(\"Please enter your OpenAI API key: \")\n",
        "openai.api_key = api_key"
      ],
      "metadata": {
        "id": "rq1-MDlrOf2R"
      },
      "execution_count": null,
      "outputs": []
    },
    {
      "cell_type": "markdown",
      "source": [
        "**Standard Chat bot**"
      ],
      "metadata": {
        "id": "N-aErOWFv5dp"
      }
    },
    {
      "cell_type": "code",
      "source": [
        "def set_open_params(\n",
        "    model=\"gpt-3.5-turbo\",\n",
        "    temperature=0.5,\n",
        "    max_tokens=400,\n",
        "    top_p=1,\n",
        "    frequency_penalty=0,\n",
        "    presence_penalty=0\n",
        "):\n",
        "    \"\"\" set openai parameters\"\"\"\n",
        "\n",
        "    openai_params = {}\n",
        "\n",
        "    openai_params['model'] = model\n",
        "    openai_params['temperature'] = temperature\n",
        "    openai_params['max_tokens'] = max_tokens\n",
        "    openai_params['top_p'] = top_p\n",
        "    openai_params['frequency_penalty'] = frequency_penalty\n",
        "    openai_params['presence_penalty'] = presence_penalty\n",
        "    return openai_params"
      ],
      "metadata": {
        "id": "M-v1LoCfvF1t"
      },
      "execution_count": null,
      "outputs": []
    },
    {
      "cell_type": "code",
      "source": [
        "def get_completion(params, messages):\n",
        "    response = openai.chat.completions.create(\n",
        "        model = params['model'],\n",
        "        messages = messages,\n",
        "        temperature = params['temperature'],\n",
        "        max_tokens = params['max_tokens'],\n",
        "        top_p = params['top_p'],\n",
        "        frequency_penalty = params['frequency_penalty'],\n",
        "        presence_penalty = params['presence_penalty'],\n",
        "    )\n",
        "    return response"
      ],
      "metadata": {
        "id": "5Jlbod07veOy"
      },
      "execution_count": null,
      "outputs": []
    },
    {
      "cell_type": "code",
      "source": [
        "params = set_open_params()"
      ],
      "metadata": {
        "id": "aTJ46cI7vNoM"
      },
      "execution_count": null,
      "outputs": []
    },
    {
      "cell_type": "code",
      "source": [
        "prompt = \"I want some stylish winter wear for women?\"\n",
        "messages = [\n",
        "    {\n",
        "        \"role\": \"user\",\n",
        "        \"content\": prompt\n",
        "    }\n",
        "]\n",
        "\n",
        "response = get_completion(params, messages)\n",
        "print(response.choices[0].message.content)"
      ],
      "metadata": {
        "colab": {
          "base_uri": "https://localhost:8080/"
        },
        "id": "9C83Pt4qvR-n",
        "outputId": "03a3fef9-edc9-4e2e-9893-b60531386966"
      },
      "execution_count": null,
      "outputs": [
        {
          "output_type": "stream",
          "name": "stdout",
          "text": [
            "Here are some stylish winter wear options for women:\n",
            "\n",
            "1. Oversized knit sweaters - Perfect for layering and keeping warm during the colder months.\n",
            "\n",
            "2. Faux fur coats - A trendy and cozy option for staying stylish in the winter.\n",
            "\n",
            "3. Puffer jackets - A practical and fashionable choice for staying warm in the snow.\n",
            "\n",
            "4. Knit beanies - A cute and functional accessory to keep your head warm.\n",
            "\n",
            "5. Thigh-high boots - A stylish and versatile option for adding some edge to your winter outfits.\n",
            "\n",
            "6. Cashmere scarves - A luxurious and soft accessory to keep you warm and stylish.\n",
            "\n",
            "7. Turtleneck sweaters - A classic and chic option for staying warm and stylish in the winter.\n",
            "\n",
            "8. Leather gloves - A sleek and sophisticated accessory to keep your hands warm in the cold weather.\n",
            "\n",
            "9. Wool blend coats - A timeless and elegant option for staying warm and stylish in the winter.\n",
            "\n",
            "10. Sherpa-lined denim jackets - A trendy and cozy option for adding some texture to your winter wardrobe.\n"
          ]
        }
      ]
    },
    {
      "cell_type": "code",
      "source": [
        "prompt = \"I want floral dresses within $100\"\n",
        "messages = [\n",
        "    {\n",
        "        \"role\": \"user\",\n",
        "        \"content\": prompt\n",
        "    }\n",
        "]\n",
        "\n",
        "response = get_completion(params, messages)\n",
        "print(response.choices[0].message.content)"
      ],
      "metadata": {
        "colab": {
          "base_uri": "https://localhost:8080/"
        },
        "id": "eiZb7QrSwI7j",
        "outputId": "cfc32eac-c21f-440f-9c26-8e0ffb03238c"
      },
      "execution_count": null,
      "outputs": [
        {
          "output_type": "stream",
          "name": "stdout",
          "text": [
            "Here are some options for floral dresses under $100:\n",
            "\n",
            "1. ASOS Design Petite Floral Print Midi Dress - $50\n",
            "2. H&M Floral Wrap Dress - $35\n",
            "3. Forever 21 Floral Ruffle Mini Dress - $25\n",
            "4. Old Navy Floral Tiered Swing Dress - $40\n",
            "5. Target A New Day Floral Maxi Dress - $30\n",
            "\n",
            "These are just a few options, but there are many more affordable floral dresses available at various retailers. Happy shopping!\n"
          ]
        }
      ]
    },
    {
      "cell_type": "markdown",
      "source": [
        "It is clear from the result that the responses from the model are generic.An organisation planning to implement a chatbot within their system should fine tune the model to give more relevant responses."
      ],
      "metadata": {
        "id": "NNzitGhNG9Y7"
      }
    },
    {
      "cell_type": "markdown",
      "source": [
        "## Fine tuning the model using RAG"
      ],
      "metadata": {
        "id": "bb-t7dRCwAgU"
      }
    },
    {
      "cell_type": "markdown",
      "source": [
        "### Fine tuning using SentenceTransformer"
      ],
      "metadata": {
        "id": "ClE-OGZNz9uN"
      }
    },
    {
      "cell_type": "code",
      "source": [
        "import pandas as pd\n",
        "\n",
        "df = pd.read_csv(\"Styles.csv\")"
      ],
      "metadata": {
        "id": "xTc56jPzuoAi"
      },
      "execution_count": null,
      "outputs": []
    },
    {
      "cell_type": "code",
      "source": [
        "def row_to_sentence(row):\n",
        "  data= f\"The {row['productDisplayName']} is a {row['articleType']} in {row['baseColour']} color, designed for {row['usage']} during {row['season']}.\"\\\n",
        "  f\"It is {row['Fit']} fit and fabric composition is {row['Fabric Composition']}\"\\\n",
        "  f\"The product belongs to {row['subCategory']} category under {row['masterCategory']}\"\\\n",
        "  f\"It is priced at ${row['Price']} with a discount of {row['Discount']}%. Available sizes: XS({row['XS']}), S({row['S']}), M({row['M']}, L({row['L']}, XL({row['XL']},XXL({row['XXL']}\"\\\n",
        "  f\" Rated {row['Average Rating']}/5 from {row['Number of Ratings']} reviews. Suitable for {row['Target Audience']}.\"\\\n",
        "  f\"Wash care is {row['Wash Care']} for the material {row['Material']}.It was manufactured in {row['Country of Manufacture']} by designer {row['Designer']} and is part of {row['Collection']} collection.\"\n",
        "\n",
        "  if row['Eco-Friendly'] == 'Yes':\n",
        "    data += \"The product is eco-friendly.\"\n",
        "  if row['Sustainable Certification'] != 'None':\n",
        "    data+= \"It has {row['Sustainable Certification']} sustainable certification.\"\n",
        "\n",
        "  return data\n"
      ],
      "metadata": {
        "id": "9l9XHwY3ux77"
      },
      "execution_count": null,
      "outputs": []
    },
    {
      "cell_type": "code",
      "source": [
        "df['description'] = df.apply(row_to_sentence, axis=1)"
      ],
      "metadata": {
        "id": "NndceyI0yCjn"
      },
      "execution_count": null,
      "outputs": []
    },
    {
      "cell_type": "code",
      "source": [
        "from sentence_transformers import SentenceTransformer\n",
        "\n",
        "model = SentenceTransformer('all-MiniLM-L6-v2')\n",
        "df['embeddings'] = df['description'].apply(lambda x: model.encode(x, convert_to_tensor=True))"
      ],
      "metadata": {
        "colab": {
          "base_uri": "https://localhost:8080/"
        },
        "id": "-5ih5NgkyL4Z",
        "outputId": "891ed5b6-649a-4e12-ab7c-144036c4d7ea"
      },
      "execution_count": null,
      "outputs": [
        {
          "output_type": "stream",
          "name": "stderr",
          "text": [
            "/usr/local/lib/python3.10/dist-packages/huggingface_hub/file_download.py:1132: FutureWarning: `resume_download` is deprecated and will be removed in version 1.0.0. Downloads always resume when possible. If you want to force a new download, use `force_download=True`.\n",
            "  warnings.warn(\n"
          ]
        }
      ]
    },
    {
      "cell_type": "code",
      "source": [
        "from sentence_transformers import util\n",
        "import torch\n",
        "\n",
        "def modify_query_for_apparel(query):\n",
        "    if 'wear' in query:\n",
        "        query += \" +apparel +clothing\"\n",
        "    return query\n",
        "\n",
        "def semantic_search(query, df, top_k=3):\n",
        "    modified_query = modify_query_for_apparel(query)\n",
        "    query_embedding = model.encode(modified_query, convert_to_tensor=True)\n",
        "    scores = util.semantic_search(query_embedding, torch.stack(df['embeddings'].tolist()))[0]\n",
        "    top_indices = [score['corpus_id'] for score in scores[:top_k]]\n",
        "    return df.iloc[top_indices]\n",
        "\n",
        "import openai\n",
        "\n",
        "def generate_response(retrieved_products,query):\n",
        "    context = \"Based on the query :\"+query+\", here are the top products:\\n\"\n",
        "    context += \"\\n\".join(retrieved_products['description'].tolist())\n",
        "    context += \"\\nFormulate a proper response for user using this for the query?\"\n",
        "    prompt_text =[{\"role\": \"system\", \"content\": \"You are a helpful fashion assistant. Answer the fashion query.\"},\n",
        "                  {\"role\":\"user\",\"content\":context}]\n",
        "    response = openai.chat.completions.create(\n",
        "        model=\"gpt-3.5-turbo\",\n",
        "        messages=prompt_text,\n",
        "        max_tokens=400,\n",
        "        temperature=0.5,\n",
        "        top_p =1,\n",
        "        frequency_penalty = 0,\n",
        "        presence_penalty = 0\n",
        "    )\n",
        "    return response.choices[0].message.content\n",
        "\n",
        "def handle_user_query(query):\n",
        "    top_products = semantic_search(query, df)\n",
        "    return generate_response(top_products,query)\n"
      ],
      "metadata": {
        "id": "ldGhfJSIy7Uf"
      },
      "execution_count": null,
      "outputs": []
    },
    {
      "cell_type": "code",
      "source": [
        "user_query = \"Suggest me some superhero themed party dresses for women\"\n",
        "response = handle_user_query(user_query)\n",
        "print(response)"
      ],
      "metadata": {
        "colab": {
          "base_uri": "https://localhost:8080/"
        },
        "id": "04LR4IUj3wQV",
        "outputId": "5878d5f6-410b-4633-a3b8-3c85b187fcfa"
      },
      "execution_count": null,
      "outputs": [
        {
          "output_type": "stream",
          "name": "stdout",
          "text": [
            "For a superhero themed party, here are some dress options for women that you might like:\n",
            "\n",
            "1. **United Colors of Benetton Women Purple Dress**:\n",
            "   - Color: Purple\n",
            "   - Style: Casual, perfect for Summer\n",
            "   - Fit: Regular fit\n",
            "   - Fabric: 71% Cotton\n",
            "   - Price: $78.0 (5.1% discount)\n",
            "   - Sizes: XS, S, M, L, XL, XXL\n",
            "   - Rating: 4.2/5 from 380 reviews\n",
            "   - Suitable for: Young Adults\n",
            "   - Wash care: Delicate wash\n",
            "   - Manufacturer: Chanel (China)\n",
            "   - Collection: Streetwear\n",
            "   - Sustainable certification: Yes\n",
            "\n",
            "2. **Tonga Women Purple Dress**:\n",
            "   - Color: Purple\n",
            "   - Style: Casual, ideal for Fall\n",
            "   - Fit: Regular fit\n",
            "   - Fabric: 100% Silk\n",
            "   - Price: $96.0 (1.5% discount)\n",
            "   - Sizes: XS, S, M, L, XL, XXL\n",
            "   - Rating: 3.6/5 from 98 reviews\n",
            "   - Suitable for: Young Adults\n",
            "   - Wash care: Dry clean only\n",
            "   - Manufacturer: Armani (China)\n",
            "   - Collection: Couture\n",
            "   - Sustainable certification: Not specified\n",
            "\n",
            "3. **Vogue Women Purple Sunglasses**:\n",
            "   - Color: Purple\n",
            "   - Style: Casual, great for Winter\n",
            "   - Fit: Regular fit\n",
            "   - Fabric: 92% Cotton, 20% Others\n",
            "   - Price: $72.0 (42.8% discount)\n",
            "   - Sizes: XS, S, M, L, XL, XXL\n",
            "   - Rating: 4.4/5 from 36 reviews\n",
            "   - Suitable for: Young Adults\n",
            "   - Wash care: Hand wash\n",
            "   - Manufacturer: Chanel (Italy)\n",
            "  \n"
          ]
        }
      ]
    },
    {
      "cell_type": "code",
      "source": [
        "query = \"What are some stylish watches for women in silver within 100?\"\n",
        "response = handle_user_query(query)\n",
        "print(response)"
      ],
      "metadata": {
        "colab": {
          "base_uri": "https://localhost:8080/"
        },
        "id": "XWg2T19P-agW",
        "outputId": "65ec0291-006b-4151-d8ed-06920052ccda"
      },
      "execution_count": null,
      "outputs": [
        {
          "output_type": "stream",
          "name": "stdout",
          "text": [
            "Based on your query for stylish silver watches for women under $100, here are some recommendations:\n",
            "\n",
            "1. Timex Women's Easy Reader Date Expansion Band Watch - This classic silver watch features an easy-to-read dial and an expansion band for a comfortable fit. Priced under $100, it offers both style and functionality.\n",
            "\n",
            "2. Anne Klein Women's Swarovski Crystal Accented Silver-Tone Watch - This elegant watch is adorned with Swarovski crystals, adding a touch of sparkle to your wrist. It is priced affordably and perfect for adding a touch of glamour to any outfit.\n",
            "\n",
            "3. Casio Women's Classic Quartz Watch - A timeless silver watch from Casio that is both stylish and budget-friendly. With a simple yet chic design, this watch is versatile and suitable for everyday wear.\n",
            "\n",
            "These options should provide you with stylish silver watches for women within your budget.\n"
          ]
        }
      ]
    },
    {
      "cell_type": "code",
      "source": [
        "query = \"I want some stylish summer wear for women?\"\n",
        "response = handle_user_query(query)\n",
        "print(response)"
      ],
      "metadata": {
        "colab": {
          "base_uri": "https://localhost:8080/"
        },
        "id": "-_fPhOd9-wOA",
        "outputId": "a4e31297-3295-4d55-842a-647079d441fe"
      },
      "execution_count": null,
      "outputs": [
        {
          "output_type": "stream",
          "name": "stdout",
          "text": [
            "For stylish summer wear options for women, here are some recommendations:\n",
            "\n",
            "1. **Disney Kids Girl's Summer Fun Fair Yellow Teen Kidswear T-shirt**\n",
            "   - Color: Yellow\n",
            "   - Fit: Regular\n",
            "   - Fabric: 84% Cotton, 15% Others\n",
            "   - Price: $72.0 (16.8% discount)\n",
            "   - Available Sizes: XS, S, M, L, XL, XXL\n",
            "   - Rating: 3.8/5 from 137 reviews\n",
            "   - Suitable for: Young Adults\n",
            "   - Wash Care: Hand wash\n",
            "   - Manufacturer: Armani (USA)\n",
            "   - Collection: Sportswear\n",
            "   - Sustainable Certification: Yes\n",
            "\n",
            "2. **W Women Red Dress Kurta**\n",
            "   - Color: Red\n",
            "   - Fit: Regular\n",
            "   - Fabric: 100% Silk\n",
            "   - Price: $84.0 (26.8% discount)\n",
            "   - Available Sizes: XS, M, L, XL, XXL\n",
            "   - Rating: 0.7/5 from 94 reviews\n",
            "   - Suitable for: Young Adults\n",
            "   - Wash Care: Dry clean only\n",
            "   - Manufacturer: Calvin Klein (Vietnam)\n",
            "   - Collection: Sportswear\n",
            "   - Sustainable Certification: Not specified\n",
            "\n",
            "3. **Disney Kids Girl's Summer Fun Fair Pink Teen Kidswear T-shirt**\n",
            "   - Color: Pink\n",
            "   - Fit: Regular\n",
            "   - Fabric: 100% Silk\n",
            "   - Price: $90.0 (2.1% discount)\n",
            "   - Available Sizes: XS, S, M, L, XL, XXL\n",
            "   - Rating: 3.1/5 from 206 reviews\n",
            "   - Suitable for: Young Adults\n",
            "   - Wash Care: Hand wash\n",
            "   - Manufacturer: Armani (China)\n",
            "   - Collection: Resort\n",
            "   - Sustainable Certification: Not specified\n",
            "\n",
            "These options offer a variety of stylish and comfortable\n"
          ]
        }
      ]
    },
    {
      "cell_type": "code",
      "source": [
        "query = \"I want some stylish winter wear for women?\"\n",
        "response = handle_user_query(query)\n",
        "print(response)"
      ],
      "metadata": {
        "colab": {
          "base_uri": "https://localhost:8080/"
        },
        "id": "bX8rsJ8u_lwP",
        "outputId": "90a519f8-4816-428b-c0a7-67619a132e83"
      },
      "execution_count": null,
      "outputs": [
        {
          "output_type": "stream",
          "name": "stdout",
          "text": [
            "For stylish winter wear options for women, I recommend the Forever New Women Long Black Jacket. This jacket is perfect for casual wear during the winter season. It is made of 97% Cotton and 3% Others, providing both comfort and style. The black color makes it versatile and easy to pair with different outfits. \n",
            "\n",
            "With a discount of 7.3%, the jacket is priced at $72.0. It comes in various sizes ranging from XS to XXL, catering to different body types. Although it has received a rating of 1.6/5 from 35 reviews, it is still a popular choice among young adults.\n",
            "\n",
            "The Forever New Women Long Black Jacket is eco-friendly and has sustainable certification. It is recommended to delicate wash this jacket due to its cotton material. This fashionable piece was manufactured in Vietnam by the renowned designer Gucci and is part of the Resort collection.\n",
            "\n",
            "Stay warm and stylish this winter with the Forever New Women Long Black Jacket!\n"
          ]
        }
      ]
    },
    {
      "cell_type": "code",
      "source": [
        "query = \"Suggest me some stylish resort wear for women and some accessories also that go with it\"\n",
        "response = handle_user_query(query)\n",
        "print(response)"
      ],
      "metadata": {
        "colab": {
          "base_uri": "https://localhost:8080/"
        },
        "id": "NuBQ4QDB_xrY",
        "outputId": "cb6589b6-3a36-4b50-9251-25259c94242f"
      },
      "execution_count": null,
      "outputs": [
        {
          "output_type": "stream",
          "name": "stdout",
          "text": [
            "For a stylish resort wear look for women, I recommend the following outfit and accessories:\n",
            "\n",
            "- Pair the W Women Red Dress, a beautiful red silk kurta, with the Carlton London Women Casual Red Stilettos for a chic and elegant ensemble perfect for a resort setting. The red dress is designed for casual wear during summer, while the red stilettos add a touch of sophistication to the outfit.\n",
            "\n",
            "- Complete the look with the Stoln Women Black Sunglasses to protect your eyes from the sun in style. These black sunglasses are designed for casual wear during winter and will add a trendy touch to your resort outfit.\n",
            "\n",
            "- Enhance your overall look with the Boss Women Femme Perfume, a delightful pink perfume and body mist perfect for casual wear during spring. The feminine scent will complement your resort attire beautifully.\n",
            "\n",
            "- As a bonus, consider adding the Nike Fragrances Women Paradise Perfume and Deo Set to your collection. This fragrance gift set in white color is designed for casual wear during spring, and the luxurious scent will leave you feeling fresh and confident throughout your resort stay.\n",
            "\n",
            "By combining these stylish resort wear pieces and accessories, you'll be ready to make a fashionable statement wherever your travels take you. Enjoy your resort getaway in style!\n"
          ]
        }
      ]
    },
    {
      "cell_type": "code",
      "source": [
        "query = \"Suggest me some stylish dresses under $20\"\n",
        "response = handle_user_query(query)\n",
        "print(response)"
      ],
      "metadata": {
        "colab": {
          "base_uri": "https://localhost:8080/"
        },
        "id": "5yULeCOnThaJ",
        "outputId": "c404a36a-d87d-43ad-b74b-dbecc87a14f6"
      },
      "execution_count": null,
      "outputs": [
        {
          "output_type": "stream",
          "name": "stdout",
          "text": [
            "Based on the information provided, I recommend the following stylish dresses under $20:\n",
            "\n",
            "1. The Jealous 21 Women Black Dress in Black color, made of 90% Cotton and 9% Others fabric composition, priced at $80.0 with a discount of 22.7%. It is available in various sizes and suitable for Young Adults. This dress is designed for Casual wear during Summer and is eco-friendly. It was manufactured in Italy by designer Calvin Klein and is part of the Couture collection.\n",
            "\n",
            "2. The 109F Red & White A-Line Dress in Red color, made of 100% Silk fabric composition, priced at $99.0 with a discount of 29.9%. It is available in different sizes and suitable for Young Adults. This dress is designed for Casual wear during Summer and is eco-friendly. It was manufactured in Italy by designer Gucci and is part of the Streetwear collection.\n",
            "\n",
            "Unfortunately, the dresses mentioned are priced above $20, so they may not fit within your specified budget. You may want to consider exploring other options or sales to find stylish dresses that are more budget-friendly.\n"
          ]
        }
      ]
    },
    {
      "cell_type": "code",
      "source": [
        "#query = \"Suggest me some loose fit jeans with rating more than 4 for women under $100\"\n",
        "query = \"Suggest me a loose fit jeans priced less than $80 for women and rating more than 4\"\n",
        "response = handle_user_query(query)\n",
        "print(response)"
      ],
      "metadata": {
        "colab": {
          "base_uri": "https://localhost:8080/"
        },
        "id": "PM8LwiDzVDuY",
        "outputId": "c06c1f74-7649-4c21-9f71-4ab8cb402aea"
      },
      "execution_count": null,
      "outputs": [
        {
          "output_type": "stream",
          "name": "stdout",
          "text": [
            "Based on your query for loose fit jeans priced less than $80 and with a rating of more than 4, I recommend the Pepe Jeans Women Blue Jeans in Regular fit. This pair of jeans is priced at $56.0 with a discount of 36.9%. It has a fabric composition of 81% Polyester, making it suitable for casual wear during the summer. The jeans have received a rating of 4.6/5 from 77 reviews, making it a highly recommended choice. Available sizes include XS, S, M, L, XL, and XXL. The wash care instructions recommend delicate wash for the Polyester material. This eco-friendly product was manufactured in the USA by designer Versace and is part of the Resort collection.\n"
          ]
        }
      ]
    },
    {
      "cell_type": "markdown",
      "source": [
        "In the last query,we can see that the chatbot is suggesting regular fit jeans despite asking for loose fit jeans.We can try another technique of RAG to get better responses."
      ],
      "metadata": {
        "id": "pPfNfgHD7nrJ"
      }
    },
    {
      "cell_type": "markdown",
      "source": [
        "### Chatbot using FAISS"
      ],
      "metadata": {
        "id": "y4i_Ki2rdx3p"
      }
    },
    {
      "cell_type": "code",
      "source": [
        "!pip install langchain\n",
        "!pip install openai\n",
        "!pip install faiss-gpu\n",
        "!pip install langchain_experimental\n",
        "!pip install \"langchain[docarray]\""
      ],
      "metadata": {
        "id": "x94u75YcGDCC",
        "colab": {
          "base_uri": "https://localhost:8080/"
        },
        "outputId": "4d029589-e61a-4196-fcbe-dbc4f3c2d4e7"
      },
      "execution_count": null,
      "outputs": [
        {
          "output_type": "stream",
          "name": "stdout",
          "text": [
            "Collecting langchain\n",
            "  Downloading langchain-0.1.20-py3-none-any.whl (1.0 MB)\n",
            "\u001b[2K     \u001b[90m━━━━━━━━━━━━━━━━━━━━━━━━━━━━━━━━━━━━━━━━\u001b[0m \u001b[32m1.0/1.0 MB\u001b[0m \u001b[31m14.1 MB/s\u001b[0m eta \u001b[36m0:00:00\u001b[0m\n",
            "\u001b[?25hRequirement already satisfied: PyYAML>=5.3 in /usr/local/lib/python3.10/dist-packages (from langchain) (6.0.1)\n",
            "Requirement already satisfied: SQLAlchemy<3,>=1.4 in /usr/local/lib/python3.10/dist-packages (from langchain) (2.0.30)\n",
            "Requirement already satisfied: aiohttp<4.0.0,>=3.8.3 in /usr/local/lib/python3.10/dist-packages (from langchain) (3.9.5)\n",
            "Requirement already satisfied: async-timeout<5.0.0,>=4.0.0 in /usr/local/lib/python3.10/dist-packages (from langchain) (4.0.3)\n",
            "Collecting dataclasses-json<0.7,>=0.5.7 (from langchain)\n",
            "  Downloading dataclasses_json-0.6.6-py3-none-any.whl (28 kB)\n",
            "Collecting langchain-community<0.1,>=0.0.38 (from langchain)\n",
            "  Downloading langchain_community-0.0.38-py3-none-any.whl (2.0 MB)\n",
            "\u001b[2K     \u001b[90m━━━━━━━━━━━━━━━━━━━━━━━━━━━━━━━━━━━━━━━━\u001b[0m \u001b[32m2.0/2.0 MB\u001b[0m \u001b[31m52.4 MB/s\u001b[0m eta \u001b[36m0:00:00\u001b[0m\n",
            "\u001b[?25hCollecting langchain-core<0.2.0,>=0.1.52 (from langchain)\n",
            "  Downloading langchain_core-0.1.52-py3-none-any.whl (302 kB)\n",
            "\u001b[2K     \u001b[90m━━━━━━━━━━━━━━━━━━━━━━━━━━━━━━━━━━━━━━━━\u001b[0m \u001b[32m302.9/302.9 kB\u001b[0m \u001b[31m32.3 MB/s\u001b[0m eta \u001b[36m0:00:00\u001b[0m\n",
            "\u001b[?25hCollecting langchain-text-splitters<0.1,>=0.0.1 (from langchain)\n",
            "  Downloading langchain_text_splitters-0.0.1-py3-none-any.whl (21 kB)\n",
            "Collecting langsmith<0.2.0,>=0.1.17 (from langchain)\n",
            "  Downloading langsmith-0.1.57-py3-none-any.whl (121 kB)\n",
            "\u001b[2K     \u001b[90m━━━━━━━━━━━━━━━━━━━━━━━━━━━━━━━━━━━━━━━━\u001b[0m \u001b[32m121.0/121.0 kB\u001b[0m \u001b[31m14.4 MB/s\u001b[0m eta \u001b[36m0:00:00\u001b[0m\n",
            "\u001b[?25hRequirement already satisfied: numpy<2,>=1 in /usr/local/lib/python3.10/dist-packages (from langchain) (1.25.2)\n",
            "Requirement already satisfied: pydantic<3,>=1 in /usr/local/lib/python3.10/dist-packages (from langchain) (2.7.1)\n",
            "Requirement already satisfied: requests<3,>=2 in /usr/local/lib/python3.10/dist-packages (from langchain) (2.31.0)\n",
            "Requirement already satisfied: tenacity<9.0.0,>=8.1.0 in /usr/local/lib/python3.10/dist-packages (from langchain) (8.3.0)\n",
            "Requirement already satisfied: aiosignal>=1.1.2 in /usr/local/lib/python3.10/dist-packages (from aiohttp<4.0.0,>=3.8.3->langchain) (1.3.1)\n",
            "Requirement already satisfied: attrs>=17.3.0 in /usr/local/lib/python3.10/dist-packages (from aiohttp<4.0.0,>=3.8.3->langchain) (23.2.0)\n",
            "Requirement already satisfied: frozenlist>=1.1.1 in /usr/local/lib/python3.10/dist-packages (from aiohttp<4.0.0,>=3.8.3->langchain) (1.4.1)\n",
            "Requirement already satisfied: multidict<7.0,>=4.5 in /usr/local/lib/python3.10/dist-packages (from aiohttp<4.0.0,>=3.8.3->langchain) (6.0.5)\n",
            "Requirement already satisfied: yarl<2.0,>=1.0 in /usr/local/lib/python3.10/dist-packages (from aiohttp<4.0.0,>=3.8.3->langchain) (1.9.4)\n",
            "Collecting marshmallow<4.0.0,>=3.18.0 (from dataclasses-json<0.7,>=0.5.7->langchain)\n",
            "  Downloading marshmallow-3.21.2-py3-none-any.whl (49 kB)\n",
            "\u001b[2K     \u001b[90m━━━━━━━━━━━━━━━━━━━━━━━━━━━━━━━━━━━━━━━━\u001b[0m \u001b[32m49.3/49.3 kB\u001b[0m \u001b[31m5.6 MB/s\u001b[0m eta \u001b[36m0:00:00\u001b[0m\n",
            "\u001b[?25hCollecting typing-inspect<1,>=0.4.0 (from dataclasses-json<0.7,>=0.5.7->langchain)\n",
            "  Downloading typing_inspect-0.9.0-py3-none-any.whl (8.8 kB)\n",
            "Collecting jsonpatch<2.0,>=1.33 (from langchain-core<0.2.0,>=0.1.52->langchain)\n",
            "  Downloading jsonpatch-1.33-py2.py3-none-any.whl (12 kB)\n",
            "Collecting packaging<24.0,>=23.2 (from langchain-core<0.2.0,>=0.1.52->langchain)\n",
            "  Downloading packaging-23.2-py3-none-any.whl (53 kB)\n",
            "\u001b[2K     \u001b[90m━━━━━━━━━━━━━━━━━━━━━━━━━━━━━━━━━━━━━━━━\u001b[0m \u001b[32m53.0/53.0 kB\u001b[0m \u001b[31m5.5 MB/s\u001b[0m eta \u001b[36m0:00:00\u001b[0m\n",
            "\u001b[?25hCollecting orjson<4.0.0,>=3.9.14 (from langsmith<0.2.0,>=0.1.17->langchain)\n",
            "  Downloading orjson-3.10.3-cp310-cp310-manylinux_2_17_x86_64.manylinux2014_x86_64.whl (142 kB)\n",
            "\u001b[2K     \u001b[90m━━━━━━━━━━━━━━━━━━━━━━━━━━━━━━━━━━━━━━━━\u001b[0m \u001b[32m142.5/142.5 kB\u001b[0m \u001b[31m16.6 MB/s\u001b[0m eta \u001b[36m0:00:00\u001b[0m\n",
            "\u001b[?25hRequirement already satisfied: annotated-types>=0.4.0 in /usr/local/lib/python3.10/dist-packages (from pydantic<3,>=1->langchain) (0.6.0)\n",
            "Requirement already satisfied: pydantic-core==2.18.2 in /usr/local/lib/python3.10/dist-packages (from pydantic<3,>=1->langchain) (2.18.2)\n",
            "Requirement already satisfied: typing-extensions>=4.6.1 in /usr/local/lib/python3.10/dist-packages (from pydantic<3,>=1->langchain) (4.11.0)\n",
            "Requirement already satisfied: charset-normalizer<4,>=2 in /usr/local/lib/python3.10/dist-packages (from requests<3,>=2->langchain) (3.3.2)\n",
            "Requirement already satisfied: idna<4,>=2.5 in /usr/local/lib/python3.10/dist-packages (from requests<3,>=2->langchain) (3.7)\n",
            "Requirement already satisfied: urllib3<3,>=1.21.1 in /usr/local/lib/python3.10/dist-packages (from requests<3,>=2->langchain) (2.0.7)\n",
            "Requirement already satisfied: certifi>=2017.4.17 in /usr/local/lib/python3.10/dist-packages (from requests<3,>=2->langchain) (2024.2.2)\n",
            "Requirement already satisfied: greenlet!=0.4.17 in /usr/local/lib/python3.10/dist-packages (from SQLAlchemy<3,>=1.4->langchain) (3.0.3)\n",
            "Collecting jsonpointer>=1.9 (from jsonpatch<2.0,>=1.33->langchain-core<0.2.0,>=0.1.52->langchain)\n",
            "  Downloading jsonpointer-2.4-py2.py3-none-any.whl (7.8 kB)\n",
            "Collecting mypy-extensions>=0.3.0 (from typing-inspect<1,>=0.4.0->dataclasses-json<0.7,>=0.5.7->langchain)\n",
            "  Downloading mypy_extensions-1.0.0-py3-none-any.whl (4.7 kB)\n",
            "Installing collected packages: packaging, orjson, mypy-extensions, jsonpointer, typing-inspect, marshmallow, jsonpatch, langsmith, dataclasses-json, langchain-core, langchain-text-splitters, langchain-community, langchain\n",
            "  Attempting uninstall: packaging\n",
            "    Found existing installation: packaging 24.0\n",
            "    Uninstalling packaging-24.0:\n",
            "      Successfully uninstalled packaging-24.0\n",
            "Successfully installed dataclasses-json-0.6.6 jsonpatch-1.33 jsonpointer-2.4 langchain-0.1.20 langchain-community-0.0.38 langchain-core-0.1.52 langchain-text-splitters-0.0.1 langsmith-0.1.57 marshmallow-3.21.2 mypy-extensions-1.0.0 orjson-3.10.3 packaging-23.2 typing-inspect-0.9.0\n",
            "Requirement already satisfied: openai in /usr/local/lib/python3.10/dist-packages (1.28.1)\n",
            "Requirement already satisfied: anyio<5,>=3.5.0 in /usr/local/lib/python3.10/dist-packages (from openai) (3.7.1)\n",
            "Requirement already satisfied: distro<2,>=1.7.0 in /usr/lib/python3/dist-packages (from openai) (1.7.0)\n",
            "Requirement already satisfied: httpx<1,>=0.23.0 in /usr/local/lib/python3.10/dist-packages (from openai) (0.27.0)\n",
            "Requirement already satisfied: pydantic<3,>=1.9.0 in /usr/local/lib/python3.10/dist-packages (from openai) (2.7.1)\n",
            "Requirement already satisfied: sniffio in /usr/local/lib/python3.10/dist-packages (from openai) (1.3.1)\n",
            "Requirement already satisfied: tqdm>4 in /usr/local/lib/python3.10/dist-packages (from openai) (4.66.4)\n",
            "Requirement already satisfied: typing-extensions<5,>=4.7 in /usr/local/lib/python3.10/dist-packages (from openai) (4.11.0)\n",
            "Requirement already satisfied: idna>=2.8 in /usr/local/lib/python3.10/dist-packages (from anyio<5,>=3.5.0->openai) (3.7)\n",
            "Requirement already satisfied: exceptiongroup in /usr/local/lib/python3.10/dist-packages (from anyio<5,>=3.5.0->openai) (1.2.1)\n",
            "Requirement already satisfied: certifi in /usr/local/lib/python3.10/dist-packages (from httpx<1,>=0.23.0->openai) (2024.2.2)\n",
            "Requirement already satisfied: httpcore==1.* in /usr/local/lib/python3.10/dist-packages (from httpx<1,>=0.23.0->openai) (1.0.5)\n",
            "Requirement already satisfied: h11<0.15,>=0.13 in /usr/local/lib/python3.10/dist-packages (from httpcore==1.*->httpx<1,>=0.23.0->openai) (0.14.0)\n",
            "Requirement already satisfied: annotated-types>=0.4.0 in /usr/local/lib/python3.10/dist-packages (from pydantic<3,>=1.9.0->openai) (0.6.0)\n",
            "Requirement already satisfied: pydantic-core==2.18.2 in /usr/local/lib/python3.10/dist-packages (from pydantic<3,>=1.9.0->openai) (2.18.2)\n",
            "Collecting faiss-gpu\n",
            "  Downloading faiss_gpu-1.7.2-cp310-cp310-manylinux_2_17_x86_64.manylinux2014_x86_64.whl (85.5 MB)\n",
            "\u001b[2K     \u001b[90m━━━━━━━━━━━━━━━━━━━━━━━━━━━━━━━━━━━━━━━━\u001b[0m \u001b[32m85.5/85.5 MB\u001b[0m \u001b[31m9.5 MB/s\u001b[0m eta \u001b[36m0:00:00\u001b[0m\n",
            "\u001b[?25hInstalling collected packages: faiss-gpu\n",
            "Successfully installed faiss-gpu-1.7.2\n",
            "Collecting langchain_experimental\n",
            "  Downloading langchain_experimental-0.0.58-py3-none-any.whl (199 kB)\n",
            "\u001b[2K     \u001b[90m━━━━━━━━━━━━━━━━━━━━━━━━━━━━━━━━━━━━━━━━\u001b[0m \u001b[32m199.4/199.4 kB\u001b[0m \u001b[31m5.0 MB/s\u001b[0m eta \u001b[36m0:00:00\u001b[0m\n",
            "\u001b[?25hRequirement already satisfied: langchain<0.2.0,>=0.1.17 in /usr/local/lib/python3.10/dist-packages (from langchain_experimental) (0.1.20)\n",
            "Requirement already satisfied: langchain-core<0.2.0,>=0.1.52 in /usr/local/lib/python3.10/dist-packages (from langchain_experimental) (0.1.52)\n",
            "Requirement already satisfied: PyYAML>=5.3 in /usr/local/lib/python3.10/dist-packages (from langchain<0.2.0,>=0.1.17->langchain_experimental) (6.0.1)\n",
            "Requirement already satisfied: SQLAlchemy<3,>=1.4 in /usr/local/lib/python3.10/dist-packages (from langchain<0.2.0,>=0.1.17->langchain_experimental) (2.0.30)\n",
            "Requirement already satisfied: aiohttp<4.0.0,>=3.8.3 in /usr/local/lib/python3.10/dist-packages (from langchain<0.2.0,>=0.1.17->langchain_experimental) (3.9.5)\n",
            "Requirement already satisfied: async-timeout<5.0.0,>=4.0.0 in /usr/local/lib/python3.10/dist-packages (from langchain<0.2.0,>=0.1.17->langchain_experimental) (4.0.3)\n",
            "Requirement already satisfied: dataclasses-json<0.7,>=0.5.7 in /usr/local/lib/python3.10/dist-packages (from langchain<0.2.0,>=0.1.17->langchain_experimental) (0.6.6)\n",
            "Requirement already satisfied: langchain-community<0.1,>=0.0.38 in /usr/local/lib/python3.10/dist-packages (from langchain<0.2.0,>=0.1.17->langchain_experimental) (0.0.38)\n",
            "Requirement already satisfied: langchain-text-splitters<0.1,>=0.0.1 in /usr/local/lib/python3.10/dist-packages (from langchain<0.2.0,>=0.1.17->langchain_experimental) (0.0.1)\n",
            "Requirement already satisfied: langsmith<0.2.0,>=0.1.17 in /usr/local/lib/python3.10/dist-packages (from langchain<0.2.0,>=0.1.17->langchain_experimental) (0.1.57)\n",
            "Requirement already satisfied: numpy<2,>=1 in /usr/local/lib/python3.10/dist-packages (from langchain<0.2.0,>=0.1.17->langchain_experimental) (1.25.2)\n",
            "Requirement already satisfied: pydantic<3,>=1 in /usr/local/lib/python3.10/dist-packages (from langchain<0.2.0,>=0.1.17->langchain_experimental) (2.7.1)\n",
            "Requirement already satisfied: requests<3,>=2 in /usr/local/lib/python3.10/dist-packages (from langchain<0.2.0,>=0.1.17->langchain_experimental) (2.31.0)\n",
            "Requirement already satisfied: tenacity<9.0.0,>=8.1.0 in /usr/local/lib/python3.10/dist-packages (from langchain<0.2.0,>=0.1.17->langchain_experimental) (8.3.0)\n",
            "Requirement already satisfied: jsonpatch<2.0,>=1.33 in /usr/local/lib/python3.10/dist-packages (from langchain-core<0.2.0,>=0.1.52->langchain_experimental) (1.33)\n",
            "Requirement already satisfied: packaging<24.0,>=23.2 in /usr/local/lib/python3.10/dist-packages (from langchain-core<0.2.0,>=0.1.52->langchain_experimental) (23.2)\n",
            "Requirement already satisfied: aiosignal>=1.1.2 in /usr/local/lib/python3.10/dist-packages (from aiohttp<4.0.0,>=3.8.3->langchain<0.2.0,>=0.1.17->langchain_experimental) (1.3.1)\n",
            "Requirement already satisfied: attrs>=17.3.0 in /usr/local/lib/python3.10/dist-packages (from aiohttp<4.0.0,>=3.8.3->langchain<0.2.0,>=0.1.17->langchain_experimental) (23.2.0)\n",
            "Requirement already satisfied: frozenlist>=1.1.1 in /usr/local/lib/python3.10/dist-packages (from aiohttp<4.0.0,>=3.8.3->langchain<0.2.0,>=0.1.17->langchain_experimental) (1.4.1)\n",
            "Requirement already satisfied: multidict<7.0,>=4.5 in /usr/local/lib/python3.10/dist-packages (from aiohttp<4.0.0,>=3.8.3->langchain<0.2.0,>=0.1.17->langchain_experimental) (6.0.5)\n",
            "Requirement already satisfied: yarl<2.0,>=1.0 in /usr/local/lib/python3.10/dist-packages (from aiohttp<4.0.0,>=3.8.3->langchain<0.2.0,>=0.1.17->langchain_experimental) (1.9.4)\n",
            "Requirement already satisfied: marshmallow<4.0.0,>=3.18.0 in /usr/local/lib/python3.10/dist-packages (from dataclasses-json<0.7,>=0.5.7->langchain<0.2.0,>=0.1.17->langchain_experimental) (3.21.2)\n",
            "Requirement already satisfied: typing-inspect<1,>=0.4.0 in /usr/local/lib/python3.10/dist-packages (from dataclasses-json<0.7,>=0.5.7->langchain<0.2.0,>=0.1.17->langchain_experimental) (0.9.0)\n",
            "Requirement already satisfied: jsonpointer>=1.9 in /usr/local/lib/python3.10/dist-packages (from jsonpatch<2.0,>=1.33->langchain-core<0.2.0,>=0.1.52->langchain_experimental) (2.4)\n",
            "Requirement already satisfied: orjson<4.0.0,>=3.9.14 in /usr/local/lib/python3.10/dist-packages (from langsmith<0.2.0,>=0.1.17->langchain<0.2.0,>=0.1.17->langchain_experimental) (3.10.3)\n",
            "Requirement already satisfied: annotated-types>=0.4.0 in /usr/local/lib/python3.10/dist-packages (from pydantic<3,>=1->langchain<0.2.0,>=0.1.17->langchain_experimental) (0.6.0)\n",
            "Requirement already satisfied: pydantic-core==2.18.2 in /usr/local/lib/python3.10/dist-packages (from pydantic<3,>=1->langchain<0.2.0,>=0.1.17->langchain_experimental) (2.18.2)\n",
            "Requirement already satisfied: typing-extensions>=4.6.1 in /usr/local/lib/python3.10/dist-packages (from pydantic<3,>=1->langchain<0.2.0,>=0.1.17->langchain_experimental) (4.11.0)\n",
            "Requirement already satisfied: charset-normalizer<4,>=2 in /usr/local/lib/python3.10/dist-packages (from requests<3,>=2->langchain<0.2.0,>=0.1.17->langchain_experimental) (3.3.2)\n",
            "Requirement already satisfied: idna<4,>=2.5 in /usr/local/lib/python3.10/dist-packages (from requests<3,>=2->langchain<0.2.0,>=0.1.17->langchain_experimental) (3.7)\n",
            "Requirement already satisfied: urllib3<3,>=1.21.1 in /usr/local/lib/python3.10/dist-packages (from requests<3,>=2->langchain<0.2.0,>=0.1.17->langchain_experimental) (2.0.7)\n",
            "Requirement already satisfied: certifi>=2017.4.17 in /usr/local/lib/python3.10/dist-packages (from requests<3,>=2->langchain<0.2.0,>=0.1.17->langchain_experimental) (2024.2.2)\n",
            "Requirement already satisfied: greenlet!=0.4.17 in /usr/local/lib/python3.10/dist-packages (from SQLAlchemy<3,>=1.4->langchain<0.2.0,>=0.1.17->langchain_experimental) (3.0.3)\n",
            "Requirement already satisfied: mypy-extensions>=0.3.0 in /usr/local/lib/python3.10/dist-packages (from typing-inspect<1,>=0.4.0->dataclasses-json<0.7,>=0.5.7->langchain<0.2.0,>=0.1.17->langchain_experimental) (1.0.0)\n",
            "Installing collected packages: langchain_experimental\n",
            "Successfully installed langchain_experimental-0.0.58\n",
            "Requirement already satisfied: langchain[docarray] in /usr/local/lib/python3.10/dist-packages (0.1.20)\n",
            "Requirement already satisfied: PyYAML>=5.3 in /usr/local/lib/python3.10/dist-packages (from langchain[docarray]) (6.0.1)\n",
            "Requirement already satisfied: SQLAlchemy<3,>=1.4 in /usr/local/lib/python3.10/dist-packages (from langchain[docarray]) (2.0.30)\n",
            "Requirement already satisfied: aiohttp<4.0.0,>=3.8.3 in /usr/local/lib/python3.10/dist-packages (from langchain[docarray]) (3.9.5)\n",
            "Requirement already satisfied: async-timeout<5.0.0,>=4.0.0 in /usr/local/lib/python3.10/dist-packages (from langchain[docarray]) (4.0.3)\n",
            "Requirement already satisfied: dataclasses-json<0.7,>=0.5.7 in /usr/local/lib/python3.10/dist-packages (from langchain[docarray]) (0.6.6)\n",
            "Requirement already satisfied: langchain-community<0.1,>=0.0.38 in /usr/local/lib/python3.10/dist-packages (from langchain[docarray]) (0.0.38)\n",
            "Requirement already satisfied: langchain-core<0.2.0,>=0.1.52 in /usr/local/lib/python3.10/dist-packages (from langchain[docarray]) (0.1.52)\n",
            "Requirement already satisfied: langchain-text-splitters<0.1,>=0.0.1 in /usr/local/lib/python3.10/dist-packages (from langchain[docarray]) (0.0.1)\n",
            "Requirement already satisfied: langsmith<0.2.0,>=0.1.17 in /usr/local/lib/python3.10/dist-packages (from langchain[docarray]) (0.1.57)\n",
            "Requirement already satisfied: numpy<2,>=1 in /usr/local/lib/python3.10/dist-packages (from langchain[docarray]) (1.25.2)\n",
            "Requirement already satisfied: pydantic<3,>=1 in /usr/local/lib/python3.10/dist-packages (from langchain[docarray]) (2.7.1)\n",
            "Requirement already satisfied: requests<3,>=2 in /usr/local/lib/python3.10/dist-packages (from langchain[docarray]) (2.31.0)\n",
            "Requirement already satisfied: tenacity<9.0.0,>=8.1.0 in /usr/local/lib/python3.10/dist-packages (from langchain[docarray]) (8.3.0)\n",
            "Collecting docarray[hnswlib]<0.33.0,>=0.32.0 (from langchain[docarray])\n",
            "  Downloading docarray-0.32.1-py3-none-any.whl (215 kB)\n",
            "\u001b[2K     \u001b[90m━━━━━━━━━━━━━━━━━━━━━━━━━━━━━━━━━━━━━━━━\u001b[0m \u001b[32m215.3/215.3 kB\u001b[0m \u001b[31m5.2 MB/s\u001b[0m eta \u001b[36m0:00:00\u001b[0m\n",
            "\u001b[?25hRequirement already satisfied: aiosignal>=1.1.2 in /usr/local/lib/python3.10/dist-packages (from aiohttp<4.0.0,>=3.8.3->langchain[docarray]) (1.3.1)\n",
            "Requirement already satisfied: attrs>=17.3.0 in /usr/local/lib/python3.10/dist-packages (from aiohttp<4.0.0,>=3.8.3->langchain[docarray]) (23.2.0)\n",
            "Requirement already satisfied: frozenlist>=1.1.1 in /usr/local/lib/python3.10/dist-packages (from aiohttp<4.0.0,>=3.8.3->langchain[docarray]) (1.4.1)\n",
            "Requirement already satisfied: multidict<7.0,>=4.5 in /usr/local/lib/python3.10/dist-packages (from aiohttp<4.0.0,>=3.8.3->langchain[docarray]) (6.0.5)\n",
            "Requirement already satisfied: yarl<2.0,>=1.0 in /usr/local/lib/python3.10/dist-packages (from aiohttp<4.0.0,>=3.8.3->langchain[docarray]) (1.9.4)\n",
            "Requirement already satisfied: marshmallow<4.0.0,>=3.18.0 in /usr/local/lib/python3.10/dist-packages (from dataclasses-json<0.7,>=0.5.7->langchain[docarray]) (3.21.2)\n",
            "Requirement already satisfied: typing-inspect<1,>=0.4.0 in /usr/local/lib/python3.10/dist-packages (from dataclasses-json<0.7,>=0.5.7->langchain[docarray]) (0.9.0)\n",
            "Requirement already satisfied: orjson>=3.8.2 in /usr/local/lib/python3.10/dist-packages (from docarray[hnswlib]<0.33.0,>=0.32.0->langchain[docarray]) (3.10.3)\n",
            "Requirement already satisfied: rich>=13.1.0 in /usr/local/lib/python3.10/dist-packages (from docarray[hnswlib]<0.33.0,>=0.32.0->langchain[docarray]) (13.7.1)\n",
            "Collecting types-requests>=2.28.11.6 (from docarray[hnswlib]<0.33.0,>=0.32.0->langchain[docarray])\n",
            "  Downloading types_requests-2.31.0.20240406-py3-none-any.whl (15 kB)\n",
            "Collecting hnswlib>=0.6.2 (from docarray[hnswlib]<0.33.0,>=0.32.0->langchain[docarray])\n",
            "  Downloading hnswlib-0.8.0.tar.gz (36 kB)\n",
            "  Installing build dependencies ... \u001b[?25l\u001b[?25hdone\n",
            "  Getting requirements to build wheel ... \u001b[?25l\u001b[?25hdone\n",
            "  Preparing metadata (pyproject.toml) ... \u001b[?25l\u001b[?25hdone\n",
            "Requirement already satisfied: protobuf>=3.19.0 in /usr/local/lib/python3.10/dist-packages (from docarray[hnswlib]<0.33.0,>=0.32.0->langchain[docarray]) (3.20.3)\n",
            "Requirement already satisfied: jsonpatch<2.0,>=1.33 in /usr/local/lib/python3.10/dist-packages (from langchain-core<0.2.0,>=0.1.52->langchain[docarray]) (1.33)\n",
            "Requirement already satisfied: packaging<24.0,>=23.2 in /usr/local/lib/python3.10/dist-packages (from langchain-core<0.2.0,>=0.1.52->langchain[docarray]) (23.2)\n",
            "Requirement already satisfied: annotated-types>=0.4.0 in /usr/local/lib/python3.10/dist-packages (from pydantic<3,>=1->langchain[docarray]) (0.6.0)\n",
            "Requirement already satisfied: pydantic-core==2.18.2 in /usr/local/lib/python3.10/dist-packages (from pydantic<3,>=1->langchain[docarray]) (2.18.2)\n",
            "Requirement already satisfied: typing-extensions>=4.6.1 in /usr/local/lib/python3.10/dist-packages (from pydantic<3,>=1->langchain[docarray]) (4.11.0)\n",
            "Requirement already satisfied: charset-normalizer<4,>=2 in /usr/local/lib/python3.10/dist-packages (from requests<3,>=2->langchain[docarray]) (3.3.2)\n",
            "Requirement already satisfied: idna<4,>=2.5 in /usr/local/lib/python3.10/dist-packages (from requests<3,>=2->langchain[docarray]) (3.7)\n",
            "Requirement already satisfied: urllib3<3,>=1.21.1 in /usr/local/lib/python3.10/dist-packages (from requests<3,>=2->langchain[docarray]) (2.0.7)\n",
            "Requirement already satisfied: certifi>=2017.4.17 in /usr/local/lib/python3.10/dist-packages (from requests<3,>=2->langchain[docarray]) (2024.2.2)\n",
            "Requirement already satisfied: greenlet!=0.4.17 in /usr/local/lib/python3.10/dist-packages (from SQLAlchemy<3,>=1.4->langchain[docarray]) (3.0.3)\n",
            "Requirement already satisfied: jsonpointer>=1.9 in /usr/local/lib/python3.10/dist-packages (from jsonpatch<2.0,>=1.33->langchain-core<0.2.0,>=0.1.52->langchain[docarray]) (2.4)\n",
            "Requirement already satisfied: markdown-it-py>=2.2.0 in /usr/local/lib/python3.10/dist-packages (from rich>=13.1.0->docarray[hnswlib]<0.33.0,>=0.32.0->langchain[docarray]) (3.0.0)\n",
            "Requirement already satisfied: pygments<3.0.0,>=2.13.0 in /usr/local/lib/python3.10/dist-packages (from rich>=13.1.0->docarray[hnswlib]<0.33.0,>=0.32.0->langchain[docarray]) (2.16.1)\n",
            "Requirement already satisfied: mypy-extensions>=0.3.0 in /usr/local/lib/python3.10/dist-packages (from typing-inspect<1,>=0.4.0->dataclasses-json<0.7,>=0.5.7->langchain[docarray]) (1.0.0)\n",
            "Requirement already satisfied: mdurl~=0.1 in /usr/local/lib/python3.10/dist-packages (from markdown-it-py>=2.2.0->rich>=13.1.0->docarray[hnswlib]<0.33.0,>=0.32.0->langchain[docarray]) (0.1.2)\n",
            "Building wheels for collected packages: hnswlib\n",
            "  Building wheel for hnswlib (pyproject.toml) ... \u001b[?25l\u001b[?25hdone\n",
            "  Created wheel for hnswlib: filename=hnswlib-0.8.0-cp310-cp310-linux_x86_64.whl size=2318117 sha256=954ff861c8a149f48b14b66e498b61849562601f7cd1c098f3dc4c9812413256\n",
            "  Stored in directory: /root/.cache/pip/wheels/af/a9/3e/3e5d59ee41664eb31a4e6de67d1846f86d16d93c45f277c4e7\n",
            "Successfully built hnswlib\n",
            "Installing collected packages: types-requests, hnswlib, docarray\n",
            "Successfully installed docarray-0.32.1 hnswlib-0.8.0 types-requests-2.31.0.20240406\n"
          ]
        }
      ]
    },
    {
      "cell_type": "code",
      "source": [
        "!pip install langchain_openai"
      ],
      "metadata": {
        "id": "CrJXR_8-OlYp",
        "colab": {
          "base_uri": "https://localhost:8080/"
        },
        "outputId": "fac47db2-5389-452f-f1d6-ec1704484c4c"
      },
      "execution_count": null,
      "outputs": [
        {
          "output_type": "stream",
          "name": "stdout",
          "text": [
            "Collecting langchain_openai\n",
            "  Downloading langchain_openai-0.1.6-py3-none-any.whl (34 kB)\n",
            "Requirement already satisfied: langchain-core<0.2.0,>=0.1.46 in /usr/local/lib/python3.10/dist-packages (from langchain_openai) (0.1.52)\n",
            "Requirement already satisfied: openai<2.0.0,>=1.24.0 in /usr/local/lib/python3.10/dist-packages (from langchain_openai) (1.28.1)\n",
            "Collecting tiktoken<1,>=0.5.2 (from langchain_openai)\n",
            "  Downloading tiktoken-0.6.0-cp310-cp310-manylinux_2_17_x86_64.manylinux2014_x86_64.whl (1.8 MB)\n",
            "\u001b[2K     \u001b[90m━━━━━━━━━━━━━━━━━━━━━━━━━━━━━━━━━━━━━━━━\u001b[0m \u001b[32m1.8/1.8 MB\u001b[0m \u001b[31m24.5 MB/s\u001b[0m eta \u001b[36m0:00:00\u001b[0m\n",
            "\u001b[?25hRequirement already satisfied: PyYAML>=5.3 in /usr/local/lib/python3.10/dist-packages (from langchain-core<0.2.0,>=0.1.46->langchain_openai) (6.0.1)\n",
            "Requirement already satisfied: jsonpatch<2.0,>=1.33 in /usr/local/lib/python3.10/dist-packages (from langchain-core<0.2.0,>=0.1.46->langchain_openai) (1.33)\n",
            "Requirement already satisfied: langsmith<0.2.0,>=0.1.0 in /usr/local/lib/python3.10/dist-packages (from langchain-core<0.2.0,>=0.1.46->langchain_openai) (0.1.57)\n",
            "Requirement already satisfied: packaging<24.0,>=23.2 in /usr/local/lib/python3.10/dist-packages (from langchain-core<0.2.0,>=0.1.46->langchain_openai) (23.2)\n",
            "Requirement already satisfied: pydantic<3,>=1 in /usr/local/lib/python3.10/dist-packages (from langchain-core<0.2.0,>=0.1.46->langchain_openai) (2.7.1)\n",
            "Requirement already satisfied: tenacity<9.0.0,>=8.1.0 in /usr/local/lib/python3.10/dist-packages (from langchain-core<0.2.0,>=0.1.46->langchain_openai) (8.3.0)\n",
            "Requirement already satisfied: anyio<5,>=3.5.0 in /usr/local/lib/python3.10/dist-packages (from openai<2.0.0,>=1.24.0->langchain_openai) (3.7.1)\n",
            "Requirement already satisfied: distro<2,>=1.7.0 in /usr/lib/python3/dist-packages (from openai<2.0.0,>=1.24.0->langchain_openai) (1.7.0)\n",
            "Requirement already satisfied: httpx<1,>=0.23.0 in /usr/local/lib/python3.10/dist-packages (from openai<2.0.0,>=1.24.0->langchain_openai) (0.27.0)\n",
            "Requirement already satisfied: sniffio in /usr/local/lib/python3.10/dist-packages (from openai<2.0.0,>=1.24.0->langchain_openai) (1.3.1)\n",
            "Requirement already satisfied: tqdm>4 in /usr/local/lib/python3.10/dist-packages (from openai<2.0.0,>=1.24.0->langchain_openai) (4.66.4)\n",
            "Requirement already satisfied: typing-extensions<5,>=4.7 in /usr/local/lib/python3.10/dist-packages (from openai<2.0.0,>=1.24.0->langchain_openai) (4.11.0)\n",
            "Requirement already satisfied: regex>=2022.1.18 in /usr/local/lib/python3.10/dist-packages (from tiktoken<1,>=0.5.2->langchain_openai) (2023.12.25)\n",
            "Requirement already satisfied: requests>=2.26.0 in /usr/local/lib/python3.10/dist-packages (from tiktoken<1,>=0.5.2->langchain_openai) (2.31.0)\n",
            "Requirement already satisfied: idna>=2.8 in /usr/local/lib/python3.10/dist-packages (from anyio<5,>=3.5.0->openai<2.0.0,>=1.24.0->langchain_openai) (3.7)\n",
            "Requirement already satisfied: exceptiongroup in /usr/local/lib/python3.10/dist-packages (from anyio<5,>=3.5.0->openai<2.0.0,>=1.24.0->langchain_openai) (1.2.1)\n",
            "Requirement already satisfied: certifi in /usr/local/lib/python3.10/dist-packages (from httpx<1,>=0.23.0->openai<2.0.0,>=1.24.0->langchain_openai) (2024.2.2)\n",
            "Requirement already satisfied: httpcore==1.* in /usr/local/lib/python3.10/dist-packages (from httpx<1,>=0.23.0->openai<2.0.0,>=1.24.0->langchain_openai) (1.0.5)\n",
            "Requirement already satisfied: h11<0.15,>=0.13 in /usr/local/lib/python3.10/dist-packages (from httpcore==1.*->httpx<1,>=0.23.0->openai<2.0.0,>=1.24.0->langchain_openai) (0.14.0)\n",
            "Requirement already satisfied: jsonpointer>=1.9 in /usr/local/lib/python3.10/dist-packages (from jsonpatch<2.0,>=1.33->langchain-core<0.2.0,>=0.1.46->langchain_openai) (2.4)\n",
            "Requirement already satisfied: orjson<4.0.0,>=3.9.14 in /usr/local/lib/python3.10/dist-packages (from langsmith<0.2.0,>=0.1.0->langchain-core<0.2.0,>=0.1.46->langchain_openai) (3.10.3)\n",
            "Requirement already satisfied: annotated-types>=0.4.0 in /usr/local/lib/python3.10/dist-packages (from pydantic<3,>=1->langchain-core<0.2.0,>=0.1.46->langchain_openai) (0.6.0)\n",
            "Requirement already satisfied: pydantic-core==2.18.2 in /usr/local/lib/python3.10/dist-packages (from pydantic<3,>=1->langchain-core<0.2.0,>=0.1.46->langchain_openai) (2.18.2)\n",
            "Requirement already satisfied: charset-normalizer<4,>=2 in /usr/local/lib/python3.10/dist-packages (from requests>=2.26.0->tiktoken<1,>=0.5.2->langchain_openai) (3.3.2)\n",
            "Requirement already satisfied: urllib3<3,>=1.21.1 in /usr/local/lib/python3.10/dist-packages (from requests>=2.26.0->tiktoken<1,>=0.5.2->langchain_openai) (2.0.7)\n",
            "Installing collected packages: tiktoken, langchain_openai\n",
            "Successfully installed langchain_openai-0.1.6 tiktoken-0.6.0\n"
          ]
        }
      ]
    },
    {
      "cell_type": "code",
      "source": [
        "from langchain.chains import RetrievalQA\n",
        "from langchain.chat_models import ChatOpenAI\n",
        "from langchain.document_loaders import TextLoader\n",
        "from langchain.vectorstores import DocArrayInMemorySearch\n",
        "from IPython.display import display, Markdown\n",
        "from langchain.embeddings import OpenAIEmbeddings, HuggingFaceInstructEmbeddings\n",
        "from langchain.vectorstores import FAISS\n",
        "from langchain.memory import ConversationBufferMemory\n",
        "from langchain.chains import ConversationalRetrievalChain\n",
        "from langchain.indexes import VectorstoreIndexCreator\n",
        "from langchain_experimental.agents.agent_toolkits.csv.base import create_csv_agent\n",
        "from langchain.agents.agent_types import AgentType\n",
        "from langchain.memory import ConversationBufferMemory"
      ],
      "metadata": {
        "id": "ywvwlthJGI2I"
      },
      "execution_count": null,
      "outputs": []
    },
    {
      "cell_type": "code",
      "source": [
        "\n",
        "from langchain.document_loaders.csv_loader import CSVLoader\n",
        "from langchain_openai import OpenAIEmbeddings"
      ],
      "metadata": {
        "id": "3FQCOjmAGmI5"
      },
      "execution_count": null,
      "outputs": []
    },
    {
      "cell_type": "code",
      "source": [
        "import os\n",
        "\n",
        "api_key = input(\"Please enter your OpenAI API key: \")\n",
        "\n",
        "os.environ[\"OPENAI_API_KEY\"] = api_key\n",
        "\n",
        "\n",
        "print(\"OPENAI_API_KEY has been set!\")"
      ],
      "metadata": {
        "id": "6ZyDoP4BN0qp"
      },
      "execution_count": null,
      "outputs": []
    },
    {
      "cell_type": "code",
      "source": [
        "loader = CSVLoader(file_path=\"Styles.csv\")\n",
        "documents = loader.load()\n",
        "\n",
        "embeddings_model = OpenAIEmbeddings()\n",
        "\n",
        "vectorstore = FAISS.from_documents(documents, embeddings_model)"
      ],
      "metadata": {
        "id": "SFLrP7rCOxPB"
      },
      "execution_count": null,
      "outputs": []
    },
    {
      "cell_type": "code",
      "source": [
        "# Create conversation chain\n",
        "llm = ChatOpenAI(temperature=0.5,\n",
        "                 model_name=\"gpt-3.5-turbo\",\n",
        "                 max_tokens=400)\n",
        "memory = ConversationBufferMemory(\n",
        "memory_key='chat_history', return_messages=True)\n",
        "conversation_chain = ConversationalRetrievalChain.from_llm(\n",
        "        llm=llm,\n",
        "        chain_type=\"stuff\",\n",
        "        retriever=vectorstore.as_retriever(),\n",
        "        memory=memory\n",
        "        )"
      ],
      "metadata": {
        "id": "vidOYiemFQYu"
      },
      "execution_count": null,
      "outputs": []
    },
    {
      "cell_type": "code",
      "source": [
        "query = \"Suggest me some stylish resort wear for women and some accessories also that go with it\"\n",
        "result = conversation_chain({\"question\": query})\n",
        "answer = result[\"answer\"]\n",
        "print(answer)"
      ],
      "metadata": {
        "colab": {
          "base_uri": "https://localhost:8080/"
        },
        "id": "cpWAj5UHP4pp",
        "outputId": "f12abda2-1518-4f81-8efc-3dad29aa5878"
      },
      "execution_count": null,
      "outputs": [
        {
          "output_type": "stream",
          "name": "stdout",
          "text": [
            "For stylish resort wear for women, you can consider the following options:\n",
            "\n",
            "1. **Product:** Shree Women Multi Coloured Jodhpuri Salwar\n",
            "   - **Price:** $114\n",
            "   - **Discount:** 47.3%\n",
            "   - **Season:** Fall\n",
            "   - **Designer:** Gucci\n",
            "   - **Country of Manufacture:** Vietnam\n",
            "   - **Collection:** Resort\n",
            "   - **Fabric Composition:** 75% Polyester, 5% Others\n",
            "   - **Fit:** Regular\n",
            "   - **Clearance:** Yes\n",
            "   - **Product Launch Date:** 2/22/2012\n",
            "\n",
            "2. **Product:** Shree Women Charcoal Grey & Sea Green Printed Salwar Suit with Dupatta\n",
            "   - **Price:** $78\n",
            "   - **Discount:** 22.9%\n",
            "   - **Season:** Summer\n",
            "   - **Designer:** Gucci\n",
            "   - **Country of Manufacture:** China\n",
            "   - **Collection:** Resort\n",
            "   - **Fabric Composition:** 71% Polyester, 6% Others\n",
            "   - **Fit:** Regular\n",
            "   - **Clearance:** Yes\n",
            "   - **Product Launch Date:** 4/18/2012\n",
            "\n",
            "For accessories that go well with resort wear, you can consider the following:\n",
            "\n",
            "1. **Product:** Estelle Women Gold Jewellery Set\n",
            "   - **Price:** $76\n",
            "   - **Discount:** 12.9%\n",
            "   - **Season:** Winter\n",
            "   - **Designer:** Versace\n",
            "   - **Country of Manufacture:** Italy\n",
            "   - **Material:** Cotton\n",
            "\n",
            "These options should provide you with a stylish resort look along with complementing accessories.\n"
          ]
        }
      ]
    },
    {
      "cell_type": "code",
      "source": [
        "query = \"I want some stylish summer wear for women?\"\n",
        "result = conversation_chain({\"question\": query})\n",
        "answer = result[\"answer\"]\n",
        "print(answer)"
      ],
      "metadata": {
        "colab": {
          "base_uri": "https://localhost:8080/"
        },
        "id": "2KS1HcHgRr7M",
        "outputId": "e29a2557-d9fb-44da-a790-e6384374e808"
      },
      "execution_count": null,
      "outputs": [
        {
          "output_type": "stream",
          "name": "stdout",
          "text": [
            "Here are some stylish summer wear options for women based on the provided data:\n",
            "\n",
            "1. Product: Scullers For Her Women Fashion Summer Black Tunics\n",
            "   - Type: Tunics\n",
            "   - Price: $48\n",
            "   - Material: Cotton\n",
            "   - Wash Care: Hand wash\n",
            "   - Season: Fall\n",
            "   - Designer: Versace\n",
            "   - Country of Manufacture: Italy\n",
            "   - Clearance: Yes\n",
            "   - New Arrivals: Yes\n",
            "   - Trend Factor: 2\n",
            "\n",
            "2. Product: 109F Women Multi Coloured Dress\n",
            "   - Type: Dresses\n",
            "   - Price: $72\n",
            "   - Material: Polyester\n",
            "   - Wash Care: Hand wash\n",
            "   - Season: Summer\n",
            "   - Designer: Versace\n",
            "   - Country of Manufacture: Vietnam\n",
            "   - Eco-Friendly: Yes\n",
            "   - Featured in Collections: Yes\n",
            "\n",
            "3. Product: W Women Tan Kurti\n",
            "   - Type: Tops\n",
            "   - Price: $114\n",
            "   - Material: Polyester\n",
            "   - Wash Care: Hand wash\n",
            "   - Season: Summer\n",
            "   - Designer: Gucci\n",
            "   - Country of Manufacture: Italy\n",
            "   - New Arrivals: Yes\n",
            "   - Trend Factor: 9\n",
            "\n",
            "These options include tunics, dresses, and kurtis that are suitable for summer wear and come in stylish designs.\n"
          ]
        }
      ]
    },
    {
      "cell_type": "code",
      "source": [
        "\n",
        "query = \"Suggest me a loose fit jeans priced less than $80 for women and rating more than 4\"\n",
        "result = conversation_chain({\"question\": query})\n",
        "answer = result[\"answer\"]\n",
        "print(answer)"
      ],
      "metadata": {
        "colab": {
          "base_uri": "https://localhost:8080/"
        },
        "id": "TkoF3ql-V_n8",
        "outputId": "f0c58339-6593-4f44-8dcf-a42c3dc54d72"
      },
      "execution_count": null,
      "outputs": [
        {
          "output_type": "stream",
          "name": "stdout",
          "text": [
            "I'm sorry, based on the provided information, there isn't a loose fit jeans for women priced under $80 with a rating of more than 4.\n"
          ]
        }
      ]
    },
    {
      "cell_type": "code",
      "source": [
        "query = \"Suggest me some stylish dresses under $100\"\n",
        "result = conversation_chain({\"question\": query})\n",
        "answer = result[\"answer\"]\n",
        "print(answer)"
      ],
      "metadata": {
        "colab": {
          "base_uri": "https://localhost:8080/"
        },
        "id": "0XT-D7tvaT60",
        "outputId": "3e83f4a0-6790-46dd-902c-31006c845b68"
      },
      "execution_count": null,
      "outputs": [
        {
          "output_type": "stream",
          "name": "stdout",
          "text": [
            "Based on the provided data, here are some stylish dresses under $100:\n",
            "\n",
            "1. Dress: 109F Women Multi Coloured Dress\n",
            "   - Price: $72\n",
            "\n",
            "2. Dress: 109F Red & White A-Line Dress\n",
            "   - Price: $99 (Discounted to under $100)\n",
            "\n",
            "3. Dress: 109F Blue A-Line Dress\n",
            "   - Price: $78\n",
            "\n",
            "Please note that the prices mentioned above are before any discounts. The Red & White A-Line Dress is discounted to under $100.\n"
          ]
        }
      ]
    },
    {
      "cell_type": "markdown",
      "source": [
        "## Recommendation from image"
      ],
      "metadata": {
        "id": "Y2okxY8JfGtR"
      }
    },
    {
      "cell_type": "code",
      "source": [
        "import torch\n",
        "from torchvision.models import resnet50\n",
        "from torchvision import transforms\n",
        "from PIL import Image\n",
        "\n",
        "imageModel = resnet50(pretrained=True)\n",
        "imageModel.eval()\n",
        "\n",
        "transform = transforms.Compose([\n",
        "    transforms.Resize(256),\n",
        "    transforms.CenterCrop(224),\n",
        "    transforms.ToTensor(),\n",
        "    transforms.Normalize(mean=[0.485, 0.456, 0.406], std=[0.229, 0.224, 0.225]),\n",
        "])\n"
      ],
      "metadata": {
        "colab": {
          "base_uri": "https://localhost:8080/"
        },
        "id": "Nb-NxkWnfGOg",
        "outputId": "f92520a8-7218-4062-850a-a474d3958639"
      },
      "execution_count": null,
      "outputs": [
        {
          "output_type": "stream",
          "name": "stderr",
          "text": [
            "/usr/local/lib/python3.10/dist-packages/torchvision/models/_utils.py:208: UserWarning: The parameter 'pretrained' is deprecated since 0.13 and may be removed in the future, please use 'weights' instead.\n",
            "  warnings.warn(\n",
            "/usr/local/lib/python3.10/dist-packages/torchvision/models/_utils.py:223: UserWarning: Arguments other than a weight enum or `None` for 'weights' are deprecated since 0.13 and may be removed in the future. The current behavior is equivalent to passing `weights=ResNet50_Weights.IMAGENET1K_V1`. You can also use `weights=ResNet50_Weights.DEFAULT` to get the most up-to-date weights.\n",
            "  warnings.warn(msg)\n",
            "Downloading: \"https://download.pytorch.org/models/resnet50-0676ba61.pth\" to /root/.cache/torch/hub/checkpoints/resnet50-0676ba61.pth\n",
            "100%|██████████| 97.8M/97.8M [00:01<00:00, 56.3MB/s]\n"
          ]
        }
      ]
    },
    {
      "cell_type": "code",
      "source": [
        "import cv2\n",
        "from PIL import Image\n",
        "\n",
        "def load_image(img):\n",
        "    img_t = transform(img)\n",
        "    return img_t.unsqueeze(0)\n",
        "\n"
      ],
      "metadata": {
        "id": "_Kx6NoktksC6"
      },
      "execution_count": null,
      "outputs": []
    },
    {
      "cell_type": "code",
      "source": [
        "import json\n",
        "import urllib.request\n",
        "\n",
        "class_idx_url = \"https://storage.googleapis.com/download.tensorflow.org/data/imagenet_class_index.json\"\n",
        "class_idx_path, _ = urllib.request.urlretrieve(class_idx_url)\n",
        "class_idx = json.load(open(class_idx_path))\n",
        "\n",
        "# Function to get predictions\n",
        "def get_predictions(image_tensor):\n",
        "    with torch.no_grad():\n",
        "        outputs = imageModel(image_tensor)\n",
        "        _, predicted = torch.max(outputs, 1)\n",
        "        class_id = predicted.item()\n",
        "        return class_idx[str(class_id)][1]"
      ],
      "metadata": {
        "id": "UU29HzODfpmC"
      },
      "execution_count": null,
      "outputs": []
    },
    {
      "cell_type": "code",
      "source": [
        "def generate_query_from_image(user_image):\n",
        "  image_tensor = load_image(user_image)\n",
        "  keyword = get_predictions(image_tensor)\n",
        "  user_query = \"Suggest me some options for \" + keyword\n",
        "  return user_query"
      ],
      "metadata": {
        "id": "BZmcLf2zn74r"
      },
      "execution_count": null,
      "outputs": []
    },
    {
      "cell_type": "code",
      "source": [
        "def handle_fashion_query(user_query,user_image=None):\n",
        "  if user_image!=None:\n",
        "    modified_query = generate_query_from_image( user_image)\n",
        "  else:\n",
        "    modified_query = user_query\n",
        "  result=conversation_chain({\"question\": modified_query})\n",
        "  return result[\"answer\"]"
      ],
      "metadata": {
        "id": "tw-3yqQwqW8l"
      },
      "execution_count": null,
      "outputs": []
    },
    {
      "cell_type": "markdown",
      "source": [],
      "metadata": {
        "id": "4WQ5LjYjz2eG"
      }
    },
    {
      "cell_type": "code",
      "source": [
        "user_prompt =\"Look at the image and give me suggestions\"\n",
        "user_image = Image.open(\"1584.jpg\")\n",
        "result = handle_fashion_query(user_prompt,user_image)\n",
        "print(result)"
      ],
      "metadata": {
        "colab": {
          "base_uri": "https://localhost:8080/"
        },
        "id": "NNhv2tIyp2sD",
        "outputId": "8c2ffcfc-fbc8-4773-e5e8-062ebe9ea8ed"
      },
      "execution_count": null,
      "outputs": [
        {
          "output_type": "stream",
          "name": "stdout",
          "text": [
            "Here are some options for sweatshirts based on the provided data:\n",
            "\n",
            "1. Nike Men Printed White Sweatshirts\n",
            "2. Nike Men Black Sweatshirt\n",
            "3. Nike Men Casual Black Sweatshirts\n",
            "4. Urban Yoga Women Printed Black Sweatshirt\n",
            "\n",
            "These are some of the sweatshirt options available, each with its unique features and details.\n"
          ]
        }
      ]
    },
    {
      "cell_type": "code",
      "source": [
        "result = handle_fashion_query(\"I want floral dresses within $100\")\n",
        "print(result)"
      ],
      "metadata": {
        "colab": {
          "base_uri": "https://localhost:8080/"
        },
        "id": "jfn-adB8s0ne",
        "outputId": "0b21e3fb-019e-446c-aefd-172a36d9040e"
      },
      "execution_count": null,
      "outputs": [
        {
          "output_type": "stream",
          "name": "stdout",
          "text": [
            "Based on the available data, I can suggest the following floral dresses within $100:\n",
            "\n",
            "1. Product: 109F Blue A-Line Dress\n",
            "   - Price: $78\n",
            "   - Base Colour: Blue\n",
            "   - Season: Summer\n",
            "   - Material: Cotton\n",
            "   - Designer: Chanel\n",
            "   - Country of Manufacture: USA\n",
            "\n",
            "2. Product: 109F Women Multi Coloured Dress\n",
            "   - Price: $72\n",
            "   - Base Colour: Multi\n",
            "   - Season: Summer\n",
            "   - Material: Polyester\n",
            "   - Designer: Versace\n",
            "   - Country of Manufacture: Vietnam\n",
            "\n",
            "Please note that these dresses are within the specified price range and feature floral designs.\n"
          ]
        }
      ]
    },
    {
      "cell_type": "code",
      "source": [
        "user_query = \"I want an eco friendly outfit for a barn wedding\"\n",
        "result = handle_fashion_query(user_query)\n",
        "print(result)"
      ],
      "metadata": {
        "colab": {
          "base_uri": "https://localhost:8080/"
        },
        "id": "cDYTaBZ51qmX",
        "outputId": "afa40643-c018-447c-fd90-274d806d0a1b"
      },
      "execution_count": null,
      "outputs": [
        {
          "output_type": "stream",
          "name": "stdout",
          "text": [
            "For an eco-friendly outfit for a barn wedding, you could consider the \"Mother Earth Women Green Printed Kurta\" made of Cotton. It's a green kurta that is both eco-friendly and suitable for an ethnic-themed event like a barn wedding. The fabric composition is 95% Cotton, making it a sustainable choice. Additionally, it was launched in the summer season, which could be perfect for a barn wedding.\n"
          ]
        }
      ]
    },
    {
      "cell_type": "code",
      "source": [
        "user_query = \"Can you suggest me good jeans options for XXL size women\"\n",
        "result = handle_fashion_query(user_query)\n",
        "print(result)"
      ],
      "metadata": {
        "colab": {
          "base_uri": "https://localhost:8080/"
        },
        "id": "og3lVfaW13_V",
        "outputId": "3f269806-03c3-4e2d-dc75-4b14a27d7768"
      },
      "execution_count": null,
      "outputs": [
        {
          "output_type": "stream",
          "name": "stdout",
          "text": [
            "Based on the available data, here are some good jeans options for XXL size women:\n",
            "\n",
            "1. Elle Women Black Jeans\n",
            "   - Price: $80\n",
            "   - Discount: 18.4%\n",
            "   - Material: Polyester\n",
            "   - Fit: Slim\n",
            "   - Available in XXL size\n",
            "\n",
            "2. Elle Women Blue Jeans\n",
            "   - Price: $90\n",
            "   - Discount: 9%\n",
            "   - Material: Silk\n",
            "   - Fit: Loose\n",
            "   - Available in XXL size\n",
            "\n",
            "Please note that these options are based on the information provided and may not cover all available options in the market.\n"
          ]
        }
      ]
    },
    {
      "cell_type": "code",
      "source": [
        "user_query = \"What accessories would you suggest for a red party gown\"\n",
        "result = handle_fashion_query(user_query)\n",
        "print(result)"
      ],
      "metadata": {
        "colab": {
          "base_uri": "https://localhost:8080/"
        },
        "id": "qN390jZn2GaY",
        "outputId": "1eb2c953-398f-4787-d117-42c8f6ff55e1"
      },
      "execution_count": null,
      "outputs": [
        {
          "output_type": "stream",
          "name": "stdout",
          "text": [
            "For a red party gown, you could consider accessorizing with gold earrings to complement the red color. The \"Royal Diadem Red Earrings\" or \"Royal Diadem Magenta Earrings\" from the provided data could be good options, as they are designed for women and have a touch of gold that would match well with a red gown. These earrings are suitable for ethnic or formal occasions, depending on the style of the party.\n"
          ]
        }
      ]
    },
    {
      "cell_type": "code",
      "source": [
        "user_query = \"Can you suggest good kidswear for baby boy?\"\n",
        "result = handle_fashion_query(user_query)\n",
        "print(result)"
      ],
      "metadata": {
        "colab": {
          "base_uri": "https://localhost:8080/"
        },
        "id": "Rz8Nrx8z2sBZ",
        "outputId": "e7d41f1b-a219-4929-cd31-f1c8b13e812d"
      },
      "execution_count": null,
      "outputs": [
        {
          "output_type": "stream",
          "name": "stdout",
          "text": [
            "For good kidswear options for a baby boy, you can consider the following suggestions based on the provided data:\n",
            "\n",
            "1. **Nike Kids Boys Contemporary Athlete Blue T-shirt**\n",
            "   - Price: $72\n",
            "   - Material: Polyester\n",
            "   - Season: Summer\n",
            "   - Usage: Sports\n",
            "   - Available Sizes: XS, S, M, L, XL, XXL\n",
            "   - Designer: Armani\n",
            "   - Country of Manufacture: USA\n",
            "   - Collection: Sportswear\n",
            "   - New Arrivals: Yes\n",
            "   - Featured in Collections: Yes\n",
            "\n",
            "2. **Doodle Boy's Athletic 77 Dept White Kidswear**\n",
            "   - Price: $68\n",
            "   - Material: Polyester\n",
            "   - Season: Fall\n",
            "   - Usage: Casual\n",
            "   - Available Sizes: XS, S, M, L, XL, XXL\n",
            "   - Designer: Calvin Klein\n",
            "   - Country of Manufacture: India\n",
            "   - Collection: Sportswear\n",
            "   - New Arrivals: No\n",
            "   - Featured in Collections: No\n",
            "\n",
            "These options provide a mix of sporty and casual wear for baby boys, depending on the occasion and preference.\n"
          ]
        }
      ]
    }
  ]
}